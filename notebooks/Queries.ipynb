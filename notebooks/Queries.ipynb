{
 "cells": [
  {
   "cell_type": "code",
   "execution_count": 1,
   "metadata": {
    "scrolled": true
   },
   "outputs": [],
   "source": [
    "import pandas as pd\n",
    "from pandasql import sqldf"
   ]
  },
  {
   "cell_type": "code",
   "execution_count": 2,
   "metadata": {
    "scrolled": true
   },
   "outputs": [],
   "source": [
    "#Setting up the sqldf from pandasql for easier access\n",
    "def sql(q):\n",
    "    return sqldf(q, globals())"
   ]
  },
  {
   "cell_type": "code",
   "execution_count": 3,
   "metadata": {
    "scrolled": true
   },
   "outputs": [],
   "source": [
    "#This data is a sample of 10000 observations, from bigger data sets, due to the amount of memory needed to load all the data.\n",
    "# Refer to the get data bash script\n",
    "vehicles = pd.read_csv('../data/vehicle.csv')\n",
    "people = pd.read_csv('../data/person.csv')\n",
    "crashes = pd.read_csv('../data/crash.csv', parse_dates=['CRASH DATE', 'CRASH TIME'], infer_datetime_format=True)"
   ]
  },
  {
   "cell_type": "markdown",
   "metadata": {},
   "source": [
    "COLLISION_ID is the primary key in the crashes tables and it serves as foreign key in the people and vehicles tables."
   ]
  },
  {
   "cell_type": "code",
   "execution_count": 4,
   "metadata": {},
   "outputs": [
    {
     "data": {
      "text/html": [
       "<div>\n",
       "<style scoped>\n",
       "    .dataframe tbody tr th:only-of-type {\n",
       "        vertical-align: middle;\n",
       "    }\n",
       "\n",
       "    .dataframe tbody tr th {\n",
       "        vertical-align: top;\n",
       "    }\n",
       "\n",
       "    .dataframe thead th {\n",
       "        text-align: right;\n",
       "    }\n",
       "</style>\n",
       "<table border=\"1\" class=\"dataframe\">\n",
       "  <thead>\n",
       "    <tr style=\"text-align: right;\">\n",
       "      <th></th>\n",
       "      <th>Hour</th>\n",
       "      <th>Total</th>\n",
       "    </tr>\n",
       "  </thead>\n",
       "  <tbody>\n",
       "    <tr>\n",
       "      <th>0</th>\n",
       "      <td>16</td>\n",
       "      <td>765</td>\n",
       "    </tr>\n",
       "    <tr>\n",
       "      <th>1</th>\n",
       "      <td>17</td>\n",
       "      <td>702</td>\n",
       "    </tr>\n",
       "    <tr>\n",
       "      <th>2</th>\n",
       "      <td>18</td>\n",
       "      <td>694</td>\n",
       "    </tr>\n",
       "    <tr>\n",
       "      <th>3</th>\n",
       "      <td>14</td>\n",
       "      <td>679</td>\n",
       "    </tr>\n",
       "    <tr>\n",
       "      <th>4</th>\n",
       "      <td>15</td>\n",
       "      <td>641</td>\n",
       "    </tr>\n",
       "  </tbody>\n",
       "</table>\n",
       "</div>"
      ],
      "text/plain": [
       "  Hour  Total\n",
       "0   16    765\n",
       "1   17    702\n",
       "2   18    694\n",
       "3   14    679\n",
       "4   15    641"
      ]
     },
     "execution_count": 4,
     "metadata": {},
     "output_type": "execute_result"
    }
   ],
   "source": [
    "#Which hours of the day seems to have the most accidents(top 5)?\n",
    "sql('''\n",
    "    SELECT\n",
    "        strftime(\"%H\",`CRASH TIME`) AS Hour,\n",
    "        COUNT(*) AS Total\n",
    "    FROM\n",
    "        crashes\n",
    "    GROUP BY Hour\n",
    "    ORDER BY Total DESC\n",
    "    LIMIT 5;\n",
    "''')"
   ]
  },
  {
   "cell_type": "markdown",
   "metadata": {},
   "source": [
    "Most of the collisions occurred on peak hours, usually when it's comming back from work."
   ]
  },
  {
   "cell_type": "code",
   "execution_count": 5,
   "metadata": {
    "scrolled": true
   },
   "outputs": [
    {
     "data": {
      "text/html": [
       "<div>\n",
       "<style scoped>\n",
       "    .dataframe tbody tr th:only-of-type {\n",
       "        vertical-align: middle;\n",
       "    }\n",
       "\n",
       "    .dataframe tbody tr th {\n",
       "        vertical-align: top;\n",
       "    }\n",
       "\n",
       "    .dataframe thead th {\n",
       "        text-align: right;\n",
       "    }\n",
       "</style>\n",
       "<table border=\"1\" class=\"dataframe\">\n",
       "  <thead>\n",
       "    <tr style=\"text-align: right;\">\n",
       "      <th></th>\n",
       "      <th>PERSON_TYPE</th>\n",
       "      <th>Mean_Age</th>\n",
       "      <th>Total_Injured</th>\n",
       "    </tr>\n",
       "  </thead>\n",
       "  <tbody>\n",
       "    <tr>\n",
       "      <th>0</th>\n",
       "      <td>Occupant</td>\n",
       "      <td>36.0</td>\n",
       "      <td>750</td>\n",
       "    </tr>\n",
       "    <tr>\n",
       "      <th>1</th>\n",
       "      <td>Bicyclist</td>\n",
       "      <td>31.0</td>\n",
       "      <td>36</td>\n",
       "    </tr>\n",
       "    <tr>\n",
       "      <th>2</th>\n",
       "      <td>Pedestrian</td>\n",
       "      <td>39.0</td>\n",
       "      <td>17</td>\n",
       "    </tr>\n",
       "  </tbody>\n",
       "</table>\n",
       "</div>"
      ],
      "text/plain": [
       "  PERSON_TYPE  Mean_Age  Total_Injured\n",
       "0    Occupant      36.0            750\n",
       "1   Bicyclist      31.0             36\n",
       "2  Pedestrian      39.0             17"
      ]
     },
     "execution_count": 5,
     "metadata": {},
     "output_type": "execute_result"
    }
   ],
   "source": [
    "# What is the total amount people injured and the average age by person type when there is at least one or more people other than the driver?\n",
    "sql('''\n",
    "    SELECT\n",
    "        PERSON_TYPE,\n",
    "        ROUND(AVG(PERSON_AGE),0) AS Mean_Age,\n",
    "        SUM(is_injured) AS Total_Injured        \n",
    "    FROM\n",
    "        (SELECT\n",
    "            c.`COLLISION_ID`,            \n",
    "            c.`NUMBER OF PERSONS INJURED`,\n",
    "            p.PERSON_TYPE,\n",
    "            p.PERSON_AGE,\n",
    "            CASE WHEN p.PERSON_INJURY = \"Injured\" THEN 1\n",
    "                ELSE 0\n",
    "            END AS is_injured,\n",
    "            v.VEHICLE_OCCUPANTS              \n",
    "        FROM crashes c \n",
    "            INNER JOIN people p \n",
    "            ON c.COLLISION_ID = p.COLLISION_ID\n",
    "            INNER JOIN vehicles v\n",
    "            ON c.COLLISION_ID = v.COLLISION_ID\n",
    "        WHERE c.`ON STREET NAME` IS NOT NULL) AS collisions\n",
    "    WHERE VEHICLE_OCCUPANTS >= 2\n",
    "    GROUP BY PERSON_TYPE\n",
    "    ORDER BY Total_Injured DESC;\n",
    "''')"
   ]
  },
  {
   "cell_type": "markdown",
   "metadata": {},
   "source": [
    "It seems that occupants are the most common injured people on a crash and the mean age accross all categories seems to be between 30 and 40 years old."
   ]
  },
  {
   "cell_type": "code",
   "execution_count": 6,
   "metadata": {},
   "outputs": [
    {
     "data": {
      "text/html": [
       "<div>\n",
       "<style scoped>\n",
       "    .dataframe tbody tr th:only-of-type {\n",
       "        vertical-align: middle;\n",
       "    }\n",
       "\n",
       "    .dataframe tbody tr th {\n",
       "        vertical-align: top;\n",
       "    }\n",
       "\n",
       "    .dataframe thead th {\n",
       "        text-align: right;\n",
       "    }\n",
       "</style>\n",
       "<table border=\"1\" class=\"dataframe\">\n",
       "  <thead>\n",
       "    <tr style=\"text-align: right;\">\n",
       "      <th></th>\n",
       "      <th>VEHICLE_TYPE</th>\n",
       "      <th>Total_People</th>\n",
       "    </tr>\n",
       "  </thead>\n",
       "  <tbody>\n",
       "    <tr>\n",
       "      <th>0</th>\n",
       "      <td>Sedan</td>\n",
       "      <td>607</td>\n",
       "    </tr>\n",
       "    <tr>\n",
       "      <th>1</th>\n",
       "      <td>Station Wagon/Sport Utility Vehicle</td>\n",
       "      <td>398</td>\n",
       "    </tr>\n",
       "    <tr>\n",
       "      <th>2</th>\n",
       "      <td>Bike</td>\n",
       "      <td>34</td>\n",
       "    </tr>\n",
       "    <tr>\n",
       "      <th>3</th>\n",
       "      <td>Pick-up Truck</td>\n",
       "      <td>23</td>\n",
       "    </tr>\n",
       "    <tr>\n",
       "      <th>4</th>\n",
       "      <td>Motorcycle</td>\n",
       "      <td>22</td>\n",
       "    </tr>\n",
       "    <tr>\n",
       "      <th>5</th>\n",
       "      <td>Taxi</td>\n",
       "      <td>14</td>\n",
       "    </tr>\n",
       "    <tr>\n",
       "      <th>6</th>\n",
       "      <td>Tractor Truck Diesel</td>\n",
       "      <td>8</td>\n",
       "    </tr>\n",
       "    <tr>\n",
       "      <th>7</th>\n",
       "      <td>E-Scooter</td>\n",
       "      <td>6</td>\n",
       "    </tr>\n",
       "    <tr>\n",
       "      <th>8</th>\n",
       "      <td>Bus</td>\n",
       "      <td>6</td>\n",
       "    </tr>\n",
       "    <tr>\n",
       "      <th>9</th>\n",
       "      <td>Box Truck</td>\n",
       "      <td>6</td>\n",
       "    </tr>\n",
       "  </tbody>\n",
       "</table>\n",
       "</div>"
      ],
      "text/plain": [
       "                          VEHICLE_TYPE  Total_People\n",
       "0                                Sedan           607\n",
       "1  Station Wagon/Sport Utility Vehicle           398\n",
       "2                                 Bike            34\n",
       "3                        Pick-up Truck            23\n",
       "4                           Motorcycle            22\n",
       "5                                 Taxi            14\n",
       "6                 Tractor Truck Diesel             8\n",
       "7                            E-Scooter             6\n",
       "8                                  Bus             6\n",
       "9                            Box Truck             6"
      ]
     },
     "execution_count": 6,
     "metadata": {},
     "output_type": "execute_result"
    }
   ],
   "source": [
    "#How many people were involved in the collisions by each known vehicle type from january 2020 to may 2020, by the top 10 types?\n",
    "sql('''\n",
    "    SELECT \n",
    "        v.VEHICLE_TYPE,\n",
    "        COUNT(p.UNIQUE_ID) AS Total_People        \n",
    "    FROM crashes c\n",
    "        INNER JOIN people p\n",
    "        ON c.COLLISION_ID = p.COLLISION_ID\n",
    "        INNER JOIN vehicles v\n",
    "        ON c.COLLISION_ID = v.COLLISION_ID\n",
    "    WHERE v.VEHICLE_TYPE IS NOT NULL\n",
    "        AND (STRFTIME(\"%Y-%m-%d\",c.`CRASH DATE`) BETWEEN \"2020-01-01\" AND \"2020-05-31\")\n",
    "    GROUP BY v.VEHICLE_TYPE\n",
    "    ORDER BY Total_People DESC\n",
    "    LIMIT 10;        \n",
    "''')"
   ]
  },
  {
   "cell_type": "markdown",
   "metadata": {},
   "source": [
    "Most incident with the most people involved happen with sedans and station wagons on the first 5 months of 2020."
   ]
  }
 ],
 "metadata": {
  "kernelspec": {
   "display_name": "nyc",
   "language": "python",
   "name": "nyc"
  },
  "language_info": {
   "codemirror_mode": {
    "name": "ipython",
    "version": 3
   },
   "file_extension": ".py",
   "mimetype": "text/x-python",
   "name": "python",
   "nbconvert_exporter": "python",
   "pygments_lexer": "ipython3",
   "version": "3.7.9"
  }
 },
 "nbformat": 4,
 "nbformat_minor": 4
}
